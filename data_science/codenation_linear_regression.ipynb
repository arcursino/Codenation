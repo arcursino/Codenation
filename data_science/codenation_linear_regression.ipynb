{
 "cells": [
  {
   "cell_type": "code",
   "execution_count": 28,
   "metadata": {},
   "outputs": [],
   "source": [
    "import matplotlib.pyplot as plt\n",
    "plt.style.use('ggplot') \n",
    "import pandas as pd\n",
    "import seaborn as sns\n",
    "import numpy as np\n",
    "from scipy.stats import norm\n",
    "from sklearn.preprocessing import StandardScaler\n",
    "from sklearn.linear_model import LinearRegression\n",
    "from sklearn.model_selection import train_test_split\n",
    "from scipy import stats\n",
    "from xgboost import XGBRegressor\n",
    "%matplotlib inline"
   ]
  },
  {
   "cell_type": "code",
   "execution_count": 29,
   "metadata": {},
   "outputs": [],
   "source": [
    "train = pd.read_csv('/home/ariana/projetos/codenation/testfiles/train.csv')\n",
    "test = pd.read_csv('/home/ariana/projetos/codenation/testfiles/test.csv')"
   ]
  },
  {
   "cell_type": "code",
   "execution_count": 30,
   "metadata": {},
   "outputs": [
    {
     "data": {
      "text/plain": [
       "Unnamed: 0                  int64\n",
       "NU_INSCRICAO               object\n",
       "NU_ANO                      int64\n",
       "CO_MUNICIPIO_RESIDENCIA     int64\n",
       "NO_MUNICIPIO_RESIDENCIA    object\n",
       "                            ...  \n",
       "Q046                       object\n",
       "Q047                       object\n",
       "Q048                       object\n",
       "Q049                       object\n",
       "Q050                       object\n",
       "Length: 167, dtype: object"
      ]
     },
     "execution_count": 30,
     "metadata": {},
     "output_type": "execute_result"
    }
   ],
   "source": [
    "train.dtypes"
   ]
  },
  {
   "cell_type": "code",
   "execution_count": 31,
   "metadata": {},
   "outputs": [
    {
     "data": {
      "text/plain": [
       "count    10133.000000\n",
       "mean       482.497928\n",
       "std         99.826323\n",
       "min          0.000000\n",
       "25%        408.900000\n",
       "50%        461.200000\n",
       "75%        537.600000\n",
       "max        952.000000\n",
       "Name: NU_NOTA_MT, dtype: float64"
      ]
     },
     "execution_count": 31,
     "metadata": {},
     "output_type": "execute_result"
    }
   ],
   "source": [
    "train['NU_NOTA_MT'].describe()"
   ]
  },
  {
   "cell_type": "code",
   "execution_count": 32,
   "metadata": {},
   "outputs": [
    {
     "data": {
      "text/html": [
       "<div>\n",
       "<style scoped>\n",
       "    .dataframe tbody tr th:only-of-type {\n",
       "        vertical-align: middle;\n",
       "    }\n",
       "\n",
       "    .dataframe tbody tr th {\n",
       "        vertical-align: top;\n",
       "    }\n",
       "\n",
       "    .dataframe thead th {\n",
       "        text-align: right;\n",
       "    }\n",
       "</style>\n",
       "<table border=\"1\" class=\"dataframe\">\n",
       "  <thead>\n",
       "    <tr style=\"text-align: right;\">\n",
       "      <th></th>\n",
       "      <th>Total</th>\n",
       "      <th>Percent</th>\n",
       "    </tr>\n",
       "  </thead>\n",
       "  <tbody>\n",
       "    <tr>\n",
       "      <th>CO_UF_ENTIDADE_CERTIFICACAO</th>\n",
       "      <td>12092</td>\n",
       "      <td>0.880699</td>\n",
       "    </tr>\n",
       "    <tr>\n",
       "      <th>NO_ENTIDADE_CERTIFICACAO</th>\n",
       "      <td>12092</td>\n",
       "      <td>0.880699</td>\n",
       "    </tr>\n",
       "    <tr>\n",
       "      <th>SG_UF_ENTIDADE_CERTIFICACAO</th>\n",
       "      <td>12092</td>\n",
       "      <td>0.880699</td>\n",
       "    </tr>\n",
       "    <tr>\n",
       "      <th>Q041</th>\n",
       "      <td>10792</td>\n",
       "      <td>0.786016</td>\n",
       "    </tr>\n",
       "    <tr>\n",
       "      <th>TP_SIT_FUNC_ESC</th>\n",
       "      <td>9448</td>\n",
       "      <td>0.688128</td>\n",
       "    </tr>\n",
       "  </tbody>\n",
       "</table>\n",
       "</div>"
      ],
      "text/plain": [
       "                             Total   Percent\n",
       "CO_UF_ENTIDADE_CERTIFICACAO  12092  0.880699\n",
       "NO_ENTIDADE_CERTIFICACAO     12092  0.880699\n",
       "SG_UF_ENTIDADE_CERTIFICACAO  12092  0.880699\n",
       "Q041                         10792  0.786016\n",
       "TP_SIT_FUNC_ESC               9448  0.688128"
      ]
     },
     "execution_count": 32,
     "metadata": {},
     "output_type": "execute_result"
    }
   ],
   "source": [
    "total = train.isnull().sum().sort_values(ascending=False)\n",
    "percent = (train.isnull().sum()/train.isnull().count()).sort_values(ascending=False)\n",
    "missing_data = pd.concat([total, percent], axis=1, keys=['Total', 'Percent'])\n",
    "missing_data.head()"
   ]
  },
  {
   "cell_type": "code",
   "execution_count": 33,
   "metadata": {},
   "outputs": [
    {
     "data": {
      "text/plain": [
       "TP_LINGUA                -0.201726\n",
       "TP_COR_RACA              -0.157364\n",
       "TP_ST_CONCLUSAO          -0.087869\n",
       "TP_ENSINO                -0.086353\n",
       "NU_IDADE                 -0.061485\n",
       "TP_STATUS_REDACAO        -0.059376\n",
       "TP_NACIONALIDADE         -0.034965\n",
       "IN_TREINEIRO             -0.022287\n",
       "IN_SABATISTA             -0.016459\n",
       "IN_SURDEZ                -0.015249\n",
       "IN_IDOSO                 -0.011336\n",
       "IN_GESTANTE              -0.000945\n",
       "IN_BAIXA_VISAO            0.000685\n",
       "IN_DISLEXIA               0.001453\n",
       "TP_PRESENCA_CN            0.003552\n",
       "TP_PRESENCA_CH            0.003552\n",
       "IN_DISCALCULIA            0.009813\n",
       "TP_ANO_CONCLUIU           0.029039\n",
       "TP_ESCOLA                 0.069304\n",
       "CO_UF_RESIDENCIA          0.107493\n",
       "NU_NOTA_COMP1             0.299402\n",
       "NU_NOTA_COMP2             0.335638\n",
       "NU_NOTA_COMP4             0.342282\n",
       "NU_NOTA_COMP5             0.343337\n",
       "NU_NOTA_COMP3             0.350307\n",
       "TP_DEPENDENCIA_ADM_ESC    0.373233\n",
       "NU_NOTA_REDACAO           0.379376\n",
       "NU_NOTA_LC                0.494695\n",
       "NU_NOTA_CH                0.529594\n",
       "NU_NOTA_CN                0.584941\n",
       "NU_NOTA_MT                1.000000\n",
       "IN_CEGUEIRA                    NaN\n",
       "TP_PRESENCA_LC                 NaN\n",
       "Name: NU_NOTA_MT, dtype: float64"
      ]
     },
     "execution_count": 33,
     "metadata": {},
     "output_type": "execute_result"
    }
   ],
   "source": [
    "aux = train.copy()\n",
    "aux2 = train.copy()\n",
    "\n",
    "aux = aux.loc[:, test.columns]\n",
    "aux['NU_NOTA_MT'] = aux2.NU_NOTA_MT\n",
    "\n",
    "c = aux.corr()\n",
    "c.NU_NOTA_MT.sort_values()"
   ]
  },
  {
   "cell_type": "code",
   "execution_count": 34,
   "metadata": {},
   "outputs": [
    {
     "data": {
      "text/plain": [
       "<matplotlib.axes._subplots.AxesSubplot at 0x7f5892fa1e48>"
      ]
     },
     "execution_count": 34,
     "metadata": {},
     "output_type": "execute_result"
    },
    {
     "data": {
      "image/png": "[encoded data removed]",
      "text/plain": [
       "<Figure size 432x288 with 2 Axes>"
      ]
     },
     "metadata": {
      "needs_background": "light"
     },
     "output_type": "display_data"
    }
   ],
   "source": [
    "sns.heatmap(c, \n",
    "            xticklabels=c.columns.values,\n",
    "            yticklabels=c.columns.values)"
   ]
  },
  {
   "cell_type": "code",
   "execution_count": 36,
   "metadata": {},
   "outputs": [
    {
     "data": {
      "text/html": [
       "<div>\n",
       "<style scoped>\n",
       "    .dataframe tbody tr th:only-of-type {\n",
       "        vertical-align: middle;\n",
       "    }\n",
       "\n",
       "    .dataframe tbody tr th {\n",
       "        vertical-align: top;\n",
       "    }\n",
       "\n",
       "    .dataframe thead th {\n",
       "        text-align: right;\n",
       "    }\n",
       "</style>\n",
       "<table border=\"1\" class=\"dataframe\">\n",
       "  <thead>\n",
       "    <tr style=\"text-align: right;\">\n",
       "      <th></th>\n",
       "      <th>NU_NOTA_COMP1</th>\n",
       "      <th>NU_NOTA_COMP2</th>\n",
       "      <th>NU_NOTA_COMP4</th>\n",
       "      <th>NU_NOTA_COMP5</th>\n",
       "      <th>NU_NOTA_COMP3</th>\n",
       "      <th>NU_NOTA_REDACAO</th>\n",
       "      <th>NU_NOTA_LC</th>\n",
       "      <th>NU_NOTA_CH</th>\n",
       "      <th>NU_NOTA_CN</th>\n",
       "      <th>NU_NOTA_MT</th>\n",
       "    </tr>\n",
       "  </thead>\n",
       "  <tbody>\n",
       "    <tr>\n",
       "      <th>0</th>\n",
       "      <td>120.0</td>\n",
       "      <td>120.0</td>\n",
       "      <td>80.0</td>\n",
       "      <td>80.0</td>\n",
       "      <td>120.0</td>\n",
       "      <td>520.0</td>\n",
       "      <td>581.2</td>\n",
       "      <td>495.4</td>\n",
       "      <td>436.3</td>\n",
       "      <td>399.4</td>\n",
       "    </tr>\n",
       "    <tr>\n",
       "      <th>1</th>\n",
       "      <td>140.0</td>\n",
       "      <td>120.0</td>\n",
       "      <td>120.0</td>\n",
       "      <td>80.0</td>\n",
       "      <td>120.0</td>\n",
       "      <td>580.0</td>\n",
       "      <td>599.0</td>\n",
       "      <td>544.1</td>\n",
       "      <td>474.5</td>\n",
       "      <td>459.8</td>\n",
       "    </tr>\n",
       "    <tr>\n",
       "      <th>5</th>\n",
       "      <td>120.0</td>\n",
       "      <td>120.0</td>\n",
       "      <td>160.0</td>\n",
       "      <td>100.0</td>\n",
       "      <td>120.0</td>\n",
       "      <td>620.0</td>\n",
       "      <td>410.9</td>\n",
       "      <td>583.2</td>\n",
       "      <td>439.7</td>\n",
       "      <td>364.5</td>\n",
       "    </tr>\n",
       "    <tr>\n",
       "      <th>6</th>\n",
       "      <td>100.0</td>\n",
       "      <td>120.0</td>\n",
       "      <td>120.0</td>\n",
       "      <td>100.0</td>\n",
       "      <td>120.0</td>\n",
       "      <td>560.0</td>\n",
       "      <td>484.5</td>\n",
       "      <td>604.2</td>\n",
       "      <td>420.1</td>\n",
       "      <td>529.2</td>\n",
       "    </tr>\n",
       "    <tr>\n",
       "      <th>7</th>\n",
       "      <td>140.0</td>\n",
       "      <td>120.0</td>\n",
       "      <td>120.0</td>\n",
       "      <td>120.0</td>\n",
       "      <td>120.0</td>\n",
       "      <td>620.0</td>\n",
       "      <td>611.2</td>\n",
       "      <td>625.8</td>\n",
       "      <td>619.6</td>\n",
       "      <td>566.7</td>\n",
       "    </tr>\n",
       "  </tbody>\n",
       "</table>\n",
       "</div>"
      ],
      "text/plain": [
       "   NU_NOTA_COMP1  NU_NOTA_COMP2  NU_NOTA_COMP4  NU_NOTA_COMP5  NU_NOTA_COMP3  \\\n",
       "0          120.0          120.0           80.0           80.0          120.0   \n",
       "1          140.0          120.0          120.0           80.0          120.0   \n",
       "5          120.0          120.0          160.0          100.0          120.0   \n",
       "6          100.0          120.0          120.0          100.0          120.0   \n",
       "7          140.0          120.0          120.0          120.0          120.0   \n",
       "\n",
       "   NU_NOTA_REDACAO  NU_NOTA_LC  NU_NOTA_CH  NU_NOTA_CN  NU_NOTA_MT  \n",
       "0            520.0       581.2       495.4       436.3       399.4  \n",
       "1            580.0       599.0       544.1       474.5       459.8  \n",
       "5            620.0       410.9       583.2       439.7       364.5  \n",
       "6            560.0       484.5       604.2       420.1       529.2  \n",
       "7            620.0       611.2       625.8       619.6       566.7  "
      ]
     },
     "execution_count": 36,
     "metadata": {},
     "output_type": "execute_result"
    }
   ],
   "source": [
    "#Apenas as colunas que tem maior relação:\n",
    "new_vector_training = [\n",
    "    'NU_NOTA_COMP1',\n",
    "    'NU_NOTA_COMP2',\n",
    "    'NU_NOTA_COMP4',\n",
    "    'NU_NOTA_COMP5',\n",
    "    'NU_NOTA_COMP3',\n",
    "    'NU_NOTA_REDACAO',\n",
    "    'NU_NOTA_LC',\n",
    "    'NU_NOTA_CH',\n",
    "    'NU_NOTA_CN',\n",
    "    'NU_NOTA_MT'\n",
    "]\n",
    "\n",
    "new_vector_test = [\n",
    "    'NU_INSCRICAO',\n",
    "    'NU_NOTA_COMP1',\n",
    "    'NU_NOTA_COMP2',\n",
    "    'NU_NOTA_COMP4',\n",
    "    'NU_NOTA_COMP5',\n",
    "    'NU_NOTA_COMP3',\n",
    "    'NU_NOTA_REDACAO',\n",
    "    'NU_NOTA_LC',\n",
    "    'NU_NOTA_CH',\n",
    "    'NU_NOTA_CN'\n",
    "]\n",
    "\n",
    "train_data = train.copy()\n",
    "train_data = train_data.loc[:, new_vector_training]\n",
    "train_data.dropna(subset=['NU_NOTA_MT'], inplace=True)\n",
    "train_data.head()"
   ]
  },
  {
   "cell_type": "code",
   "execution_count": 37,
   "metadata": {},
   "outputs": [],
   "source": [
    "y = train_data.NU_NOTA_MT\n",
    "X = train_data.drop(['NU_NOTA_MT'], axis=1)\n",
    "\n",
    "validation = test.copy()\n",
    "validation_1 = validation.loc[:, new_vector_test]\n",
    "validation_2 = validation.loc[:, new_vector_test]"
   ]
  },
  {
   "cell_type": "code",
   "execution_count": 38,
   "metadata": {},
   "outputs": [],
   "source": [
    "train_X, validation_X, train_y, validation_y = train_test_split(X, y, random_state = 0)"
   ]
  },
  {
   "cell_type": "code",
   "execution_count": 40,
   "metadata": {},
   "outputs": [
    {
     "ename": "ValueError",
     "evalue": "Input contains NaN, infinity or a value too large for dtype('float64').",
     "output_type": "error",
     "traceback": [
      "\u001b[0;31m---------------------------------------------------------------------------\u001b[0m",
      "\u001b[0;31mValueError\u001b[0m                                Traceback (most recent call last)",
      "\u001b[0;32m<ipython-input-40-d1038d713e12>\u001b[0m in \u001b[0;36m<module>\u001b[0;34m\u001b[0m\n\u001b[1;32m      1\u001b[0m \u001b[0mregressor\u001b[0m \u001b[0;34m=\u001b[0m \u001b[0mLinearRegression\u001b[0m\u001b[0;34m(\u001b[0m\u001b[0;34m)\u001b[0m\u001b[0;34m\u001b[0m\u001b[0;34m\u001b[0m\u001b[0m\n\u001b[0;32m----> 2\u001b[0;31m \u001b[0mregressor\u001b[0m\u001b[0;34m.\u001b[0m\u001b[0mfit\u001b[0m\u001b[0;34m(\u001b[0m\u001b[0mtrain_X\u001b[0m\u001b[0;34m,\u001b[0m \u001b[0mtrain_y\u001b[0m\u001b[0;34m)\u001b[0m\u001b[0;34m\u001b[0m\u001b[0;34m\u001b[0m\u001b[0m\n\u001b[0m",
      "\u001b[0;32m~/projetos/codenation/venv/lib/python3.6/site-packages/sklearn/linear_model/_base.py\u001b[0m in \u001b[0;36mfit\u001b[0;34m(self, X, y, sample_weight)\u001b[0m\n\u001b[1;32m    490\u001b[0m         \u001b[0mn_jobs_\u001b[0m \u001b[0;34m=\u001b[0m \u001b[0mself\u001b[0m\u001b[0;34m.\u001b[0m\u001b[0mn_jobs\u001b[0m\u001b[0;34m\u001b[0m\u001b[0;34m\u001b[0m\u001b[0m\n\u001b[1;32m    491\u001b[0m         X, y = check_X_y(X, y, accept_sparse=['csr', 'csc', 'coo'],\n\u001b[0;32m--> 492\u001b[0;31m                          y_numeric=True, multi_output=True)\n\u001b[0m\u001b[1;32m    493\u001b[0m \u001b[0;34m\u001b[0m\u001b[0m\n\u001b[1;32m    494\u001b[0m         \u001b[0;32mif\u001b[0m \u001b[0msample_weight\u001b[0m \u001b[0;32mis\u001b[0m \u001b[0;32mnot\u001b[0m \u001b[0;32mNone\u001b[0m\u001b[0;34m:\u001b[0m\u001b[0;34m\u001b[0m\u001b[0;34m\u001b[0m\u001b[0m\n",
      "\u001b[0;32m~/projetos/codenation/venv/lib/python3.6/site-packages/sklearn/utils/validation.py\u001b[0m in \u001b[0;36mcheck_X_y\u001b[0;34m(X, y, accept_sparse, accept_large_sparse, dtype, order, copy, force_all_finite, ensure_2d, allow_nd, multi_output, ensure_min_samples, ensure_min_features, y_numeric, warn_on_dtype, estimator)\u001b[0m\n\u001b[1;32m    753\u001b[0m                     \u001b[0mensure_min_features\u001b[0m\u001b[0;34m=\u001b[0m\u001b[0mensure_min_features\u001b[0m\u001b[0;34m,\u001b[0m\u001b[0;34m\u001b[0m\u001b[0;34m\u001b[0m\u001b[0m\n\u001b[1;32m    754\u001b[0m                     \u001b[0mwarn_on_dtype\u001b[0m\u001b[0;34m=\u001b[0m\u001b[0mwarn_on_dtype\u001b[0m\u001b[0;34m,\u001b[0m\u001b[0;34m\u001b[0m\u001b[0;34m\u001b[0m\u001b[0m\n\u001b[0;32m--> 755\u001b[0;31m                     estimator=estimator)\n\u001b[0m\u001b[1;32m    756\u001b[0m     \u001b[0;32mif\u001b[0m \u001b[0mmulti_output\u001b[0m\u001b[0;34m:\u001b[0m\u001b[0;34m\u001b[0m\u001b[0;34m\u001b[0m\u001b[0m\n\u001b[1;32m    757\u001b[0m         y = check_array(y, 'csr', force_all_finite=True, ensure_2d=False,\n",
      "\u001b[0;32m~/projetos/codenation/venv/lib/python3.6/site-packages/sklearn/utils/validation.py\u001b[0m in \u001b[0;36mcheck_array\u001b[0;34m(array, accept_sparse, accept_large_sparse, dtype, order, copy, force_all_finite, ensure_2d, allow_nd, ensure_min_samples, ensure_min_features, warn_on_dtype, estimator)\u001b[0m\n\u001b[1;32m    576\u001b[0m         \u001b[0;32mif\u001b[0m \u001b[0mforce_all_finite\u001b[0m\u001b[0;34m:\u001b[0m\u001b[0;34m\u001b[0m\u001b[0;34m\u001b[0m\u001b[0m\n\u001b[1;32m    577\u001b[0m             _assert_all_finite(array,\n\u001b[0;32m--> 578\u001b[0;31m                                allow_nan=force_all_finite == 'allow-nan')\n\u001b[0m\u001b[1;32m    579\u001b[0m \u001b[0;34m\u001b[0m\u001b[0m\n\u001b[1;32m    580\u001b[0m     \u001b[0;32mif\u001b[0m \u001b[0mensure_min_samples\u001b[0m \u001b[0;34m>\u001b[0m \u001b[0;36m0\u001b[0m\u001b[0;34m:\u001b[0m\u001b[0;34m\u001b[0m\u001b[0;34m\u001b[0m\u001b[0m\n",
      "\u001b[0;32m~/projetos/codenation/venv/lib/python3.6/site-packages/sklearn/utils/validation.py\u001b[0m in \u001b[0;36m_assert_all_finite\u001b[0;34m(X, allow_nan, msg_dtype)\u001b[0m\n\u001b[1;32m     58\u001b[0m                     \u001b[0mmsg_err\u001b[0m\u001b[0;34m.\u001b[0m\u001b[0mformat\u001b[0m\u001b[0;34m\u001b[0m\u001b[0;34m\u001b[0m\u001b[0m\n\u001b[1;32m     59\u001b[0m                     (type_err,\n\u001b[0;32m---> 60\u001b[0;31m                      msg_dtype if msg_dtype is not None else X.dtype)\n\u001b[0m\u001b[1;32m     61\u001b[0m             )\n\u001b[1;32m     62\u001b[0m     \u001b[0;31m# for object dtype data, we only check for NaNs (GH-13254)\u001b[0m\u001b[0;34m\u001b[0m\u001b[0;34m\u001b[0m\u001b[0;34m\u001b[0m\u001b[0m\n",
      "\u001b[0;31mValueError\u001b[0m: Input contains NaN, infinity or a value too large for dtype('float64')."
     ]
    }
   ],
   "source": [
    "regressor = LinearRegression()\n",
    "regressor.fit(train_X, train_y)\n"
   ]
  },
  {
   "cell_type": "code",
   "execution_count": 12,
   "metadata": {},
   "outputs": [],
   "source": [
    "validation_1.drop(['NU_INSCRICAO'], axis=1, inplace=True)"
   ]
  },
  {
   "cell_type": "code",
   "execution_count": 13,
   "metadata": {},
   "outputs": [],
   "source": [
    "predicted_score = model.predict(validation_1)\n",
    "final_df = pd.DataFrame({'NU_INSCRICAO': validation_2['NU_INSCRICAO'], 'NU_NOTA_MT': predicted_score})"
   ]
  },
  {
   "cell_type": "code",
   "execution_count": 14,
   "metadata": {},
   "outputs": [
    {
     "data": {
      "text/html": [
       "<div>\n",
       "<style scoped>\n",
       "    .dataframe tbody tr th:only-of-type {\n",
       "        vertical-align: middle;\n",
       "    }\n",
       "\n",
       "    .dataframe tbody tr th {\n",
       "        vertical-align: top;\n",
       "    }\n",
       "\n",
       "    .dataframe thead th {\n",
       "        text-align: right;\n",
       "    }\n",
       "</style>\n",
       "<table border=\"1\" class=\"dataframe\">\n",
       "  <thead>\n",
       "    <tr style=\"text-align: right;\">\n",
       "      <th></th>\n",
       "      <th>NU_INSCRICAO</th>\n",
       "      <th>NU_NOTA_MT</th>\n",
       "    </tr>\n",
       "  </thead>\n",
       "  <tbody>\n",
       "    <tr>\n",
       "      <th>0</th>\n",
       "      <td>73ff9fcc02f0a99919906c942c2e1a1042cdcf98</td>\n",
       "      <td>422.304169</td>\n",
       "    </tr>\n",
       "    <tr>\n",
       "      <th>1</th>\n",
       "      <td>71a95f9f1b91a82c65ad94abbdf9f54e6066f968</td>\n",
       "      <td>450.262909</td>\n",
       "    </tr>\n",
       "    <tr>\n",
       "      <th>2</th>\n",
       "      <td>b38a03232f43b11c9d0788abaf060f7366053b6d</td>\n",
       "      <td>576.919006</td>\n",
       "    </tr>\n",
       "    <tr>\n",
       "      <th>3</th>\n",
       "      <td>70b682d9a3636be23f6120fa9d6b164eb3c6002d</td>\n",
       "      <td>44.465439</td>\n",
       "    </tr>\n",
       "    <tr>\n",
       "      <th>4</th>\n",
       "      <td>715494628a50142ce8cb17191cfe6d0f3cae0934</td>\n",
       "      <td>547.173340</td>\n",
       "    </tr>\n",
       "  </tbody>\n",
       "</table>\n",
       "</div>"
      ],
      "text/plain": [
       "                               NU_INSCRICAO  NU_NOTA_MT\n",
       "0  73ff9fcc02f0a99919906c942c2e1a1042cdcf98  422.304169\n",
       "1  71a95f9f1b91a82c65ad94abbdf9f54e6066f968  450.262909\n",
       "2  b38a03232f43b11c9d0788abaf060f7366053b6d  576.919006\n",
       "3  70b682d9a3636be23f6120fa9d6b164eb3c6002d   44.465439\n",
       "4  715494628a50142ce8cb17191cfe6d0f3cae0934  547.173340"
      ]
     },
     "execution_count": 14,
     "metadata": {},
     "output_type": "execute_result"
    }
   ],
   "source": [
    "final_df.head()"
   ]
  },
  {
   "cell_type": "code",
   "execution_count": 15,
   "metadata": {},
   "outputs": [
    {
     "data": {
      "text/plain": [
       "count    4576.000000\n",
       "mean      368.280548\n",
       "std       198.215591\n",
       "min        20.014500\n",
       "25%        56.806877\n",
       "50%       442.708984\n",
       "75%       481.361694\n",
       "max       849.853149\n",
       "Name: NU_NOTA_MT, dtype: float64"
      ]
     },
     "execution_count": 15,
     "metadata": {},
     "output_type": "execute_result"
    }
   ],
   "source": [
    "final_df['NU_NOTA_MT'].describe()"
   ]
  },
  {
   "cell_type": "code",
   "execution_count": 16,
   "metadata": {},
   "outputs": [],
   "source": [
    "result_df = final_df.loc[: , ['NU_INSCRICAO', 'NU_NOTA_MT']]\n",
    "result_df.to_csv('answer_5.csv', index=False)"
   ]
  },
  {
   "cell_type": "code",
   "execution_count": null,
   "metadata": {},
   "outputs": [],
   "source": []
  }
 ],
 "metadata": {
  "kernelspec": {
   "display_name": "Python 3",
   "language": "python",
   "name": "python3"
  },
  "language_info": {
   "codemirror_mode": {
    "name": "ipython",
    "version": 3
   },
   "file_extension": ".py",
   "mimetype": "text/x-python",
   "name": "python",
   "nbconvert_exporter": "python",
   "pygments_lexer": "ipython3",
   "version": "3.6.9"
  }
 },
 "nbformat": 4,
 "nbformat_minor": 4
}
